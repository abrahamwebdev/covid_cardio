{
  "nbformat": 4,
  "nbformat_minor": 0,
  "metadata": {
    "colab": {
      "name": "Cardiography saved models.ipynb",
      "provenance": []
    },
    "kernelspec": {
      "name": "python3",
      "display_name": "Python 3"
    }
  },
  "cells": [
    {
      "cell_type": "code",
      "metadata": {
        "id": "qqj9e9ZIKMEs"
      },
      "source": [
        "import numpy as np\n",
        "import pandas as pd\n",
        "import tensorflow as tf\n",
        "import matplotlib.pyplot as plt\n",
        "import keras\n",
        "import time\n",
        "import keras.backend as K\n",
        "import os\n",
        "import shutil\n",
        "import random\n",
        "\n",
        "from tensorflow.keras.optimizers.schedules import InverseTimeDecay,ExponentialDecay\n",
        "from tensorflow.keras.applications.resnet50 import ResNet50\n",
        "from tensorflow.keras.applications import VGG16\n",
        "from tensorflow.keras.applications.resnet50 import preprocess_input, decode_predictions\n",
        "from tensorflow.keras.utils import Progbar\n",
        "\n",
        "from keras.losses import CategoricalCrossentropy,BinaryCrossentropy\n",
        "from keras.optimizers import Adam,RMSprop\n",
        "from keras.applications.densenet import DenseNet121\n",
        "from keras.applications import InceptionV3\n",
        "from keras.preprocessing.image import ImageDataGenerator\n",
        "from keras.models import Model, Sequential\n",
        "from keras.metrics import CategoricalAccuracy, Precision, Recall\n",
        "from keras.layers import Dense, Conv2D, BatchNormalization, MaxPool2D, AveragePooling2D, Flatten, Input,GlobalAveragePooling2D\n",
        "from keras.utils.vis_utils import plot_model\n",
        "from keras.optimizers.schedules import InverseTimeDecay,ExponentialDecay\n",
        "\n",
        "from sklearn.metrics import classification_report,confusion_matrix,ConfusionMatrixDisplay"
      ],
      "execution_count": null,
      "outputs": []
    },
    {
      "cell_type": "code",
      "metadata": {
        "colab": {
          "base_uri": "https://localhost:8080/"
        },
        "id": "G37mKzuOktFi",
        "outputId": "f4ce202d-591f-4c3b-999b-f0d0e20b5188"
      },
      "source": [
        "from google.colab import drive\n",
        "drive.mount(\"/content/gdrive\")"
      ],
      "execution_count": null,
      "outputs": [
        {
          "output_type": "stream",
          "text": [
            "Mounted at /content/gdrive\n"
          ],
          "name": "stdout"
        }
      ]
    },
    {
      "cell_type": "code",
      "metadata": {
        "colab": {
          "base_uri": "https://localhost:8080/"
        },
        "id": "tVhhXt2cZHFO",
        "outputId": "ff238380-128b-4bf6-8144-b0211d95bec9"
      },
      "source": [
        "model = keras.models.load_model('/content/gdrive/MyDrive/CNN_Deep_vgg8.h5')"
      ],
      "execution_count": null,
      "outputs": [
        {
          "output_type": "stream",
          "text": [
            "WARNING:tensorflow:No training configuration found in the save file, so the model was *not* compiled. Compile it manually.\n"
          ],
          "name": "stdout"
        }
      ]
    },
    {
      "cell_type": "code",
      "metadata": {
        "colab": {
          "base_uri": "https://localhost:8080/"
        },
        "id": "EQuGIK0JbMDr",
        "outputId": "7104b92c-fcd8-4bdd-e0d5-647eafd1d4db"
      },
      "source": [
        "model.summary()"
      ],
      "execution_count": null,
      "outputs": [
        {
          "output_type": "stream",
          "text": [
            "Model: \"DeepCovolutionalNetwork\"\n",
            "_________________________________________________________________\n",
            "Layer (type)                 Output Shape              Param #   \n",
            "=================================================================\n",
            "conv2d (Conv2D)              (None, 98, 98, 64)        1792      \n",
            "_________________________________________________________________\n",
            "max_pooling2d (MaxPooling2D) (None, 48, 48, 64)        0         \n",
            "_________________________________________________________________\n",
            "conv2d_1 (Conv2D)            (None, 46, 46, 256)       147712    \n",
            "_________________________________________________________________\n",
            "max_pooling2d_1 (MaxPooling2 (None, 22, 22, 256)       0         \n",
            "_________________________________________________________________\n",
            "conv2d_2 (Conv2D)            (None, 20, 20, 512)       1180160   \n",
            "_________________________________________________________________\n",
            "max_pooling2d_2 (MaxPooling2 (None, 9, 9, 512)         0         \n",
            "_________________________________________________________________\n",
            "conv2d_3 (Conv2D)            (None, 7, 7, 512)         2359808   \n",
            "_________________________________________________________________\n",
            "max_pooling2d_3 (MaxPooling2 (None, 3, 3, 512)         0         \n",
            "_________________________________________________________________\n",
            "flatten (Flatten)            (None, 4608)              0         \n",
            "_________________________________________________________________\n",
            "dense (Dense)                (None, 4096)              18878464  \n",
            "_________________________________________________________________\n",
            "dense_1 (Dense)              (None, 4096)              16781312  \n",
            "_________________________________________________________________\n",
            "dense_2 (Dense)              (None, 3)                 12291     \n",
            "=================================================================\n",
            "Total params: 39,361,539\n",
            "Trainable params: 39,361,539\n",
            "Non-trainable params: 0\n",
            "_________________________________________________________________\n"
          ],
          "name": "stdout"
        }
      ]
    },
    {
      "cell_type": "code",
      "metadata": {
        "id": "YJmR4Usbc8mw"
      },
      "source": [
        "from keras.models import model_from_json"
      ],
      "execution_count": null,
      "outputs": []
    },
    {
      "cell_type": "code",
      "metadata": {
        "id": "pI0IN5QhdGa1"
      },
      "source": [
        "# serialize model to json\n",
        "json_model = model.to_json()"
      ],
      "execution_count": null,
      "outputs": []
    },
    {
      "cell_type": "code",
      "metadata": {
        "id": "V7n4ecQPdLn9"
      },
      "source": [
        "#save the model architecture to JSON file\n",
        "with open('CNN_Deep_vgg8.json', 'w') as json_file:\n",
        "    json_file.write(json_model)"
      ],
      "execution_count": null,
      "outputs": []
    },
    {
      "cell_type": "code",
      "metadata": {
        "id": "vb87mXddfEtv",
        "colab": {
          "base_uri": "https://localhost:8080/"
        },
        "outputId": "99b54147-844c-4419-b681-ae7764e16c49"
      },
      "source": [
        "from keras.initializers import glorot_uniform\n",
        "#Reading the model from JSON file\n",
        "with open('CNN_Deep_vgg8.json', 'r') as json_file:\n",
        "    json_savedModel= json_file.read()\n",
        "#load the model architecture \n",
        "model_j = tf.keras.models.model_from_json(json_savedModel)\n",
        "model_j.summary()"
      ],
      "execution_count": null,
      "outputs": [
        {
          "output_type": "stream",
          "text": [
            "Model: \"DeepCovolutionalNetwork\"\n",
            "_________________________________________________________________\n",
            "Layer (type)                 Output Shape              Param #   \n",
            "=================================================================\n",
            "conv2d (Conv2D)              (None, 98, 98, 64)        1792      \n",
            "_________________________________________________________________\n",
            "max_pooling2d (MaxPooling2D) (None, 48, 48, 64)        0         \n",
            "_________________________________________________________________\n",
            "conv2d_1 (Conv2D)            (None, 46, 46, 256)       147712    \n",
            "_________________________________________________________________\n",
            "max_pooling2d_1 (MaxPooling2 (None, 22, 22, 256)       0         \n",
            "_________________________________________________________________\n",
            "conv2d_2 (Conv2D)            (None, 20, 20, 512)       1180160   \n",
            "_________________________________________________________________\n",
            "max_pooling2d_2 (MaxPooling2 (None, 9, 9, 512)         0         \n",
            "_________________________________________________________________\n",
            "conv2d_3 (Conv2D)            (None, 7, 7, 512)         2359808   \n",
            "_________________________________________________________________\n",
            "max_pooling2d_3 (MaxPooling2 (None, 3, 3, 512)         0         \n",
            "_________________________________________________________________\n",
            "flatten (Flatten)            (None, 4608)              0         \n",
            "_________________________________________________________________\n",
            "dense (Dense)                (None, 4096)              18878464  \n",
            "_________________________________________________________________\n",
            "dense_1 (Dense)              (None, 4096)              16781312  \n",
            "_________________________________________________________________\n",
            "dense_2 (Dense)              (None, 3)                 12291     \n",
            "=================================================================\n",
            "Total params: 39,361,539\n",
            "Trainable params: 39,361,539\n",
            "Non-trainable params: 0\n",
            "_________________________________________________________________\n"
          ],
          "name": "stdout"
        }
      ]
    },
    {
      "cell_type": "code",
      "metadata": {
        "id": "j48DXMPoboU5"
      },
      "source": [
        "import numpy as np\n",
        "from keras.preprocessing import image"
      ],
      "execution_count": null,
      "outputs": []
    },
    {
      "cell_type": "code",
      "metadata": {
        "id": "AO1im3Vhb1LK"
      },
      "source": [
        "test_image = image.load_img('/content/gdrive/MyDrive/individualtestvp.png', target_size = (100, 100))\n",
        "test_image = image.img_to_array(test_image)\n",
        "test_image = np.expand_dims(test_image, axis = 0)\n",
        "result = model.predict(test_image)"
      ],
      "execution_count": null,
      "outputs": []
    },
    {
      "cell_type": "code",
      "metadata": {
        "id": "1ce50X4lcO_U",
        "colab": {
          "base_uri": "https://localhost:8080/"
        },
        "outputId": "f7ea280c-8e73-4a61-f764-4f84e469fd49"
      },
      "source": [
        "if result[0][0] >= result[0][1]:\n",
        "  if result[0][0] >= result[0][2]:\n",
        "    print(\"Covid Positive chances is the highest\")\n",
        "  else:\n",
        "    print(\"No signs of Covid effects or Viral Pneumonia\")\n",
        "else:\n",
        "  print(\"Chances of Viral Pneumonia is highest\")"
      ],
      "execution_count": null,
      "outputs": [
        {
          "output_type": "stream",
          "text": [
            "Chances of Viral Pneumonia is highest\n"
          ],
          "name": "stdout"
        }
      ]
    }
  ]
}